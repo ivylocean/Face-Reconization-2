{
 "cells": [
  {
   "cell_type": "code",
   "execution_count": 1,
   "metadata": {},
   "outputs": [],
   "source": [
    "# 人臉識別"
   ]
  },
  {
   "cell_type": "code",
   "execution_count": 2,
   "metadata": {},
   "outputs": [],
   "source": [
    "import os\n",
    "import pathlib\n",
    "import glob   \n",
    "import cv2"
   ]
  },
  {
   "cell_type": "code",
   "execution_count": 3,
   "metadata": {},
   "outputs": [],
   "source": [
    "from sklearn.decomposition import PCA"
   ]
  },
  {
   "cell_type": "code",
   "execution_count": 4,
   "metadata": {},
   "outputs": [],
   "source": [
    "import pandas as pd\n",
    "import numpy as np"
   ]
  },
  {
   "cell_type": "code",
   "execution_count": 5,
   "metadata": {},
   "outputs": [],
   "source": [
    "import itertools\n",
    "import re"
   ]
  },
  {
   "cell_type": "code",
   "execution_count": 6,
   "metadata": {},
   "outputs": [],
   "source": [
    "# 設定專案位置\n",
    "os.getcwd()\n",
    "os.chdir(\"D:/PKU/python/hw/faceDB/\" )"
   ]
  },
  {
   "cell_type": "code",
   "execution_count": 7,
   "metadata": {},
   "outputs": [],
   "source": [
    "# 讀取資料"
   ]
  },
  {
   "cell_type": "code",
   "execution_count": 8,
   "metadata": {
    "scrolled": true
   },
   "outputs": [
    {
     "name": "stdout",
     "output_type": "stream",
     "text": [
      "['1', '10', '100', '101', '102']\n",
      "['87', '88', '89', '9', '90', '91', '92', '93-', '94', '95', '96', '97', '98', '99', 'readme.txt']\n"
     ]
    }
   ],
   "source": [
    "# 列出database資料夾下的所有檔案\n",
    "files = os.listdir(\"database/\") \n",
    "print(files[:5])\n",
    "print(files[100:])"
   ]
  },
  {
   "cell_type": "code",
   "execution_count": 9,
   "metadata": {},
   "outputs": [],
   "source": [
    "# 儲存串列中的串列形式\n",
    "# 注意串列的順序與實際順序並不相同\n",
    "face = []\n",
    "for i in range(len(files)-1): # 不需要存儲最後一筆資料，即 readme.txt\n",
    "    face.append([])\n",
    "    for img in glob.glob(\"database/\" + files[i] + \"/*.jpg\"):\n",
    "        n = cv2.imread(img, 0) ## 圖片默認為rgb型式，設定為儲存成灰階\n",
    "        face[i].append(n)"
   ]
  },
  {
   "cell_type": "code",
   "execution_count": 10,
   "metadata": {},
   "outputs": [
    {
     "name": "stdout",
     "output_type": "stream",
     "text": [
      "[1, 10, 100, 101, 102]\n",
      "[87, 88, 89, 9, 90, 91, 92, 93, 94, 95, 96, 97, 98, 99]\n"
     ]
    }
   ],
   "source": [
    "y = files[0:114]\n",
    "for i in range(0, 114):\n",
    "    y[i] = int(re.sub(\"\\D\", \"\", y[i]))\n",
    "print(y[:5])\n",
    "print(y[100:])"
   ]
  },
  {
   "cell_type": "code",
   "execution_count": 11,
   "metadata": {},
   "outputs": [],
   "source": [
    "# 檢查資料"
   ]
  },
  {
   "cell_type": "code",
   "execution_count": 12,
   "metadata": {},
   "outputs": [
    {
     "data": {
      "text/plain": [
       "114"
      ]
     },
     "execution_count": 12,
     "metadata": {},
     "output_type": "execute_result"
    }
   ],
   "source": [
    "# 確認串列長度與欲讀取資料夾個數相同       \n",
    "len(face)"
   ]
  },
  {
   "cell_type": "code",
   "execution_count": 13,
   "metadata": {},
   "outputs": [
    {
     "name": "stdout",
     "output_type": "stream",
     "text": [
      "4\n"
     ]
    }
   ],
   "source": [
    "# 確認資料夾中人臉圖片數不為7的個數是否正確\n",
    "count = 0\n",
    "for i in range(len(files)-1):\n",
    "    if len(face[i]) != 7:\n",
    "        count += 1    \n",
    "print(count) # 正確"
   ]
  },
  {
   "cell_type": "code",
   "execution_count": 14,
   "metadata": {},
   "outputs": [],
   "source": [
    "# 開啟圖片"
   ]
  },
  {
   "cell_type": "code",
   "execution_count": 15,
   "metadata": {},
   "outputs": [
    {
     "data": {
      "text/plain": [
       "(480, 640)"
      ]
     },
     "execution_count": 15,
     "metadata": {},
     "output_type": "execute_result"
    }
   ],
   "source": [
    "# 單張圖片維度\n",
    "face[0][1].shape"
   ]
  },
  {
   "cell_type": "code",
   "execution_count": 16,
   "metadata": {},
   "outputs": [],
   "source": [
    "cv2.imshow('image', face[0][1]); cv2.waitKey(); cv2.destroyAllWindows()"
   ]
  },
  {
   "cell_type": "code",
   "execution_count": 17,
   "metadata": {},
   "outputs": [],
   "source": [
    "# 訓練模型"
   ]
  },
  {
   "cell_type": "code",
   "execution_count": 18,
   "metadata": {},
   "outputs": [],
   "source": [
    "# 取前五張照片為訓練集\n",
    "train = [item[0:5] for item in face]\n",
    "test = [item[5:len(item)] for item in face]\n",
    "y_train = list(itertools.chain.from_iterable(itertools.repeat(i, 5) for i in y))\n",
    "rep = []\n",
    "for i in range(len(files)-1):  \n",
    "    if len(face[i]) == 7:\n",
    "        rep.append(2)\n",
    "    else:\n",
    "        rep.append(len(face[i])-5)\n",
    "y_test = list(y[i] for i in range(len(y)) for j in range(rep[i]))"
   ]
  },
  {
   "cell_type": "code",
   "execution_count": 19,
   "metadata": {},
   "outputs": [
    {
     "name": "stdout",
     "output_type": "stream",
     "text": [
      "114\n",
      "5\n",
      "(480, 640)\n",
      "114\n",
      "2\n",
      "4\n"
     ]
    }
   ],
   "source": [
    "print(len(train)) # 共有114位受試者\n",
    "print(len(train[0])) # 第一位受試者的圖片張數\n",
    "print(train[0][1].shape) # 人臉圖片的格式\n",
    "print(len(test))\n",
    "print(len(test[2]))\n",
    "print(len(test[23]))  # file 44+"
   ]
  },
  {
   "cell_type": "code",
   "execution_count": 20,
   "metadata": {},
   "outputs": [],
   "source": [
    "# 降維"
   ]
  },
  {
   "cell_type": "code",
   "execution_count": 27,
   "metadata": {},
   "outputs": [],
   "source": [
    "def DR(list_of_imgs, n):\n",
    "    data = []\n",
    "    for i in range(len(list_of_imgs)):\n",
    "        r, c = list_of_imgs[i].shape # 取出圖像的列與行\n",
    "        temp_mat = list_of_imgs[i].reshape(r*c)  # 轉換為一行\n",
    "        temp_mat = temp_mat -  np.mean(temp_mat) # 中心化\n",
    "        data.append(temp_mat) # 疊\n",
    "    pca = PCA(n_components = n)\n",
    "    newdata = pca.fit_transform(data)\n",
    "    return(newdata)"
   ]
  },
  {
   "cell_type": "markdown",
   "metadata": {},
   "source": [
    "由於pca的p無法大於n，故即使設定了主成分個數，仍舊最多只能提出5個，因此先將list of list重新整理。"
   ]
  },
  {
   "cell_type": "code",
   "execution_count": 22,
   "metadata": {},
   "outputs": [
    {
     "data": {
      "text/plain": [
       "array([[ 1.39870788e+04,  9.07522081e+03, -1.33736389e+03,\n",
       "         1.08922670e+03,  1.42794683e-10],\n",
       "       [ 4.31045650e+03, -9.06760311e+03, -3.85746655e+03,\n",
       "        -5.75611133e+03,  1.42794683e-10],\n",
       "       [ 1.30663256e+03, -8.20434983e+03,  4.47508038e+03,\n",
       "         6.25614845e+03,  1.42794683e-10],\n",
       "       [-7.48331477e+03,  4.79158016e+03,  8.23927523e+03,\n",
       "        -3.85147279e+03,  1.42794683e-10],\n",
       "       [-1.21208531e+04,  3.40515196e+03, -7.51952517e+03,\n",
       "         2.26220897e+03,  1.42794683e-10]])"
      ]
     },
     "execution_count": 22,
     "metadata": {},
     "output_type": "execute_result"
    }
   ],
   "source": [
    "DR(train[0], 30) # wrong\n",
    "# for i in range(len(train)):\n",
    "#    train_dr.append(DR(train[i]))"
   ]
  },
  {
   "cell_type": "code",
   "execution_count": 28,
   "metadata": {},
   "outputs": [
    {
     "data": {
      "text/plain": [
       "(570, 100)"
      ]
     },
     "execution_count": 28,
     "metadata": {},
     "output_type": "execute_result"
    }
   ],
   "source": [
    "train2 = [val for sublist in train for val in sublist]\n",
    "test2 = [val for sublist in test for val in sublist]   \n",
    "\n",
    "train_dr = []    \n",
    "train_dr = DR(train2, 100) \n",
    "train_dr.shape\n",
    "test_dr = []    \n",
    "test_dr = DR(test2, 100)\n",
    "train_dr.shape"
   ]
  },
  {
   "cell_type": "code",
   "execution_count": 29,
   "metadata": {},
   "outputs": [],
   "source": [
    "from sklearn import svm\n",
    "from sklearn.svm import SVC\n",
    "from sklearn.model_selection import GridSearchCV\n",
    "from sklearn.metrics import accuracy_score\n",
    "from sklearn.model_selection import KFold"
   ]
  },
  {
   "cell_type": "code",
   "execution_count": 30,
   "metadata": {},
   "outputs": [
    {
     "name": "stdout",
     "output_type": "stream",
     "text": [
      "Best parameters set found on development set:  {'C': 1, 'kernel': 'linear'}\n",
      "{'C': 1, 'kernel': 'linear'}\n",
      "ACC :  0.0\n"
     ]
    }
   ],
   "source": [
    "tuned_parameters = [{'kernel': ['rbf'], 'gamma': [1e-3, 1e-4, 0.01, 0.001, ], 'C': [1, 10, 100, 1000]},\n",
    "                    {'kernel': ['linear'], 'C': [1, 10, 100, 1000]}]\n",
    "\n",
    "clf = GridSearchCV(SVC(), tuned_parameters)\n",
    "clf.fit(train_dr, y_train)\n",
    "#  列印最佳參數\n",
    "print(\"Best parameters set found on development set: \", clf.best_params_)\n",
    "print(clf.best_params_)\n",
    "\n",
    "y_true, y_pred = y_test, clf.predict(test_dr)\n",
    "print(\"ACC : \", accuracy_score(y_true, y_pred))"
   ]
  },
  {
   "cell_type": "code",
   "execution_count": null,
   "metadata": {},
   "outputs": [],
   "source": [
    "## 重新讀取資料"
   ]
  },
  {
   "cell_type": "code",
   "execution_count": 31,
   "metadata": {},
   "outputs": [
    {
     "data": {
      "text/plain": [
       "(797, 100)"
      ]
     },
     "execution_count": 31,
     "metadata": {},
     "output_type": "execute_result"
    }
   ],
   "source": [
    "x = []\n",
    "y = []\n",
    "for i in range(len(files)-1):\n",
    "    count = 0\n",
    "    for img in glob.glob(\"database/\" + files[i] + \"/*.jpg\"):\n",
    "        n = cv2.imread(img, 0)    \n",
    "        r, c = n.shape\n",
    "        n = n.reshape(r*c)  #.astype(\"float32\")\n",
    "        n = n - np.mean(n)      \n",
    "        x.append(n)\n",
    "        count += 1\n",
    "    y.append([files[i]] * count)\n",
    "x = np.array(x)\n",
    "x.shape\n",
    "y  = [val for sublist in y for val in sublist]\n",
    "import re\n",
    "for i in range(len(y)):\n",
    "    y[i] = int(re.sub(\"\\D\", \"\", y[i]))\n",
    "\n",
    "pca = PCA(n_components = 100)\n",
    "newdata = pca.fit_transform(x)\n",
    "newdata.shape"
   ]
  },
  {
   "cell_type": "code",
   "execution_count": 32,
   "metadata": {},
   "outputs": [],
   "source": [
    "from sklearn.model_selection import KFold"
   ]
  },
  {
   "cell_type": "code",
   "execution_count": 33,
   "metadata": {},
   "outputs": [],
   "source": [
    "def SVM(X, y, k):\n",
    "    kf = KFold(n_splits = k, shuffle = True)\n",
    "    precision_average = 0.0\n",
    "    tuned_parameters = [{'kernel': ['rbf'], \n",
    "                         'gamma': [0.001, 0.01, 0.05 , 0.1],\n",
    "                         'C': [1, 2, 3, 5, 10, 100]},\n",
    "                        {'kernel': ['linear'], 'C': [1, 2, 3, 5, 10, 100]}]\n",
    "    \n",
    "    clf = GridSearchCV(SVC(), tuned_parameters)\n",
    "    X = np.array(X)\n",
    "    y = np.array(y)\n",
    "    for train_index, test_index in kf.split(X):\n",
    "        X_train, X_test = X[train_index], X[test_index]\n",
    "        y_train, y_test = y[train_index], y[test_index]\n",
    "        clf = clf.fit(X_train, y_train)\n",
    "        test_pred = clf.predict(X_test)\n",
    "        # 計算平均準確率\n",
    "        precision = 0\n",
    "        for i in range(0, len(y_test)):\n",
    "            if (y_test[i] == test_pred[i]):\n",
    "                precision = precision + 1\n",
    "        precision_average = precision_average + float(precision)/len(y_test)\n",
    "    precision_average = precision_average / k    \n",
    "    return precision_average"
   ]
  },
  {
   "cell_type": "code",
   "execution_count": 34,
   "metadata": {},
   "outputs": [
    {
     "data": {
      "text/plain": [
       "0.3575949367088608"
      ]
     },
     "execution_count": 34,
     "metadata": {},
     "output_type": "execute_result"
    }
   ],
   "source": [
    "SVM(newdata, y, 10)"
   ]
  }
 ],
 "metadata": {
  "kernelspec": {
   "display_name": "Python 3",
   "language": "python",
   "name": "python3"
  },
  "language_info": {
   "codemirror_mode": {
    "name": "ipython",
    "version": 3
   },
   "file_extension": ".py",
   "mimetype": "text/x-python",
   "name": "python",
   "nbconvert_exporter": "python",
   "pygments_lexer": "ipython3",
   "version": "3.7.0"
  }
 },
 "nbformat": 4,
 "nbformat_minor": 2
}
